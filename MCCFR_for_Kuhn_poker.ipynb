{
  "nbformat": 4,
  "nbformat_minor": 0,
  "metadata": {
    "colab": {
      "provenance": [],
      "authorship_tag": "ABX9TyOXXLYsg8o3No3XG0feumoK",
      "include_colab_link": true
    },
    "kernelspec": {
      "name": "python3",
      "display_name": "Python 3"
    },
    "language_info": {
      "name": "python"
    }
  },
  "cells": [
    {
      "cell_type": "markdown",
      "metadata": {
        "id": "view-in-github",
        "colab_type": "text"
      },
      "source": [
        "<a href=\"https://colab.research.google.com/github/krvicky/open_spiel/blob/main/MCCFR_for_Kuhn_poker.ipynb\" target=\"_parent\"><img src=\"https://colab.research.google.com/assets/colab-badge.svg\" alt=\"Open In Colab\"/></a>"
      ]
    },
    {
      "cell_type": "code",
      "source": [
        "# Install required dependencies\n",
        "!pip install open-spiel  # This might take some time\n",
        "\n",
        "# Import necessary libraries\n",
        "from absl import app\n",
        "from absl import flags\n",
        "\n",
        "from open_spiel.python.algorithms import exploitability\n",
        "from open_spiel.python.algorithms import external_sampling_mccfr as external_mccfr\n",
        "from open_spiel.python.algorithms import outcome_sampling_mccfr as outcome_mccfr\n",
        "import pyspiel\n"
      ],
      "metadata": {
        "colab": {
          "base_uri": "https://localhost:8080/"
        },
        "id": "YHvAYqNSr6C8",
        "outputId": "eafc1c50-b84b-4317-9816-179fd345439b"
      },
      "execution_count": 2,
      "outputs": [
        {
          "output_type": "stream",
          "name": "stdout",
          "text": [
            "Collecting open-spiel\n",
            "  Downloading open_spiel-1.3-cp310-cp310-manylinux_2_17_x86_64.manylinux2014_x86_64.whl (5.4 MB)\n",
            "\u001b[2K     \u001b[90m━━━━━━━━━━━━━━━━━━━━━━━━━━━━━━━━━━━━━━━━\u001b[0m \u001b[32m5.4/5.4 MB\u001b[0m \u001b[31m19.5 MB/s\u001b[0m eta \u001b[36m0:00:00\u001b[0m\n",
            "\u001b[?25hRequirement already satisfied: pip>=20.0.2 in /usr/local/lib/python3.10/dist-packages (from open-spiel) (23.1.2)\n",
            "Requirement already satisfied: attrs>=19.3.0 in /usr/local/lib/python3.10/dist-packages (from open-spiel) (23.1.0)\n",
            "Requirement already satisfied: absl-py>=0.10.0 in /usr/local/lib/python3.10/dist-packages (from open-spiel) (1.4.0)\n",
            "Requirement already satisfied: numpy>=1.21.5 in /usr/local/lib/python3.10/dist-packages (from open-spiel) (1.23.5)\n",
            "Requirement already satisfied: scipy>=1.10.1 in /usr/local/lib/python3.10/dist-packages (from open-spiel) (1.11.3)\n",
            "Installing collected packages: open-spiel\n",
            "Successfully installed open-spiel-1.3\n"
          ]
        }
      ]
    },
    {
      "cell_type": "code",
      "source": [
        "game_name = \"kuhn_poker\"\n",
        "players = 2\n",
        "sampling = \"external\" #can be \"external\" or \"outcome\"\n",
        "iterations = 10000 #number of iterations\n",
        "print_freq = 1000 #how oftern to print the exploitability"
      ],
      "metadata": {
        "id": "V9qsGcvisDen"
      },
      "execution_count": 6,
      "outputs": []
    },
    {
      "cell_type": "code",
      "source": [
        "game = pyspiel.load_game(game_name, {\"players\": players})\n",
        "if sampling == \"external\":\n",
        "  cfr_solver = external_mccfr.ExternalSamplingSolver(\n",
        "      game, external_mccfr.AverageType.SIMPLE)\n",
        "else:\n",
        "  cfr_solver = outcome_mccfr.OutcomeSamplingSolver(game)\n",
        "for i in range(iterations):\n",
        "  cfr_solver.iteration()\n",
        "  if i % print_freq == 0 or i == iterations-1:\n",
        "    conv = exploitability.nash_conv(game, cfr_solver.average_policy())\n",
        "    print(\"Iteration {} exploitability {}\".format(i, conv))"
      ],
      "metadata": {
        "colab": {
          "base_uri": "https://localhost:8080/"
        },
        "id": "Qx-IREVSsir_",
        "outputId": "6120b0fb-1a4c-4b15-a7a1-cc7aa83bec65"
      },
      "execution_count": 10,
      "outputs": [
        {
          "output_type": "stream",
          "name": "stdout",
          "text": [
            "Iteration 0 exploitability 0.7500003333326666\n",
            "Iteration 1000 exploitability 0.05038884825887441\n",
            "Iteration 2000 exploitability 0.01859592341482902\n",
            "Iteration 3000 exploitability 0.01723649173341002\n",
            "Iteration 4000 exploitability 0.03260452587287532\n",
            "Iteration 5000 exploitability 0.02256637502779557\n",
            "Iteration 6000 exploitability 0.016831276524625016\n",
            "Iteration 7000 exploitability 0.019252454666777996\n",
            "Iteration 8000 exploitability 0.005580455492516123\n",
            "Iteration 9000 exploitability 0.014030758723283132\n",
            "Iteration 9999 exploitability 0.013402992885763854\n"
          ]
        }
      ]
    },
    {
      "cell_type": "code",
      "source": [
        "sampling = \"outcome\" #can be \"external\" or \"outcome\""
      ],
      "metadata": {
        "id": "TIImTvY60WEH"
      },
      "execution_count": 11,
      "outputs": []
    },
    {
      "cell_type": "code",
      "source": [
        "game = pyspiel.load_game(game_name, {\"players\": players})\n",
        "if sampling == \"external\":\n",
        "  cfr_solver = external_mccfr.ExternalSamplingSolver(\n",
        "      game, external_mccfr.AverageType.SIMPLE)\n",
        "else:\n",
        "  cfr_solver = outcome_mccfr.OutcomeSamplingSolver(game)\n",
        "for i in range(iterations):\n",
        "  cfr_solver.iteration()\n",
        "  if i % print_freq == 0 or i == iterations-1:\n",
        "    conv = exploitability.nash_conv(game, cfr_solver.average_policy())\n",
        "    print(\"Iteration {} exploitability {}\".format(i, conv))"
      ],
      "metadata": {
        "colab": {
          "base_uri": "https://localhost:8080/"
        },
        "id": "fmnYI4M8uvAz",
        "outputId": "dfda529f-7770-42cd-d1c7-956198c7b5ac"
      },
      "execution_count": 12,
      "outputs": [
        {
          "output_type": "stream",
          "name": "stdout",
          "text": [
            "Iteration 0 exploitability 0.9166666666666666\n",
            "Iteration 1000 exploitability 0.13391324096162088\n",
            "Iteration 2000 exploitability 0.10004644688542297\n",
            "Iteration 3000 exploitability 0.09209738727970063\n",
            "Iteration 4000 exploitability 0.09710811624389049\n",
            "Iteration 5000 exploitability 0.0642483090504069\n",
            "Iteration 6000 exploitability 0.06348347944257438\n",
            "Iteration 7000 exploitability 0.05471588837821101\n",
            "Iteration 8000 exploitability 0.06455581100371988\n",
            "Iteration 9000 exploitability 0.038333578804467194\n",
            "Iteration 9999 exploitability 0.0410902669488965\n"
          ]
        }
      ]
    }
  ]
}