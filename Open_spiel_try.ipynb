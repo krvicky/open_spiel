{
  "nbformat": 4,
  "nbformat_minor": 0,
  "metadata": {
    "colab": {
      "provenance": [],
      "authorship_tag": "ABX9TyPi2SVsIZjDnAcQrvlXOL6n",
      "include_colab_link": true
    },
    "kernelspec": {
      "name": "python3",
      "display_name": "Python 3"
    },
    "language_info": {
      "name": "python"
    }
  },
  "cells": [
    {
      "cell_type": "markdown",
      "metadata": {
        "id": "view-in-github",
        "colab_type": "text"
      },
      "source": [
        "<a href=\"https://colab.research.google.com/github/krvicky/open_spiel/blob/main/Open_spiel_try.ipynb\" target=\"_parent\"><img src=\"https://colab.research.google.com/assets/colab-badge.svg\" alt=\"Open In Colab\"/></a>"
      ]
    },
    {
      "cell_type": "markdown",
      "source": [
        "#Trying open_spiel"
      ],
      "metadata": {
        "id": "Y5uoMgZDKJNp"
      }
    },
    {
      "cell_type": "code",
      "source": [
        "#Install necessary packages\n",
        "!pip install --upgrade open_spiel"
      ],
      "metadata": {
        "id": "9UKFHvd9L7nM"
      },
      "execution_count": null,
      "outputs": []
    },
    {
      "cell_type": "code",
      "source": [
        "# Importing pyspiel and showing the list of supported games.\n",
        "import pyspiel\n",
        "print(pyspiel.registered_names())"
      ],
      "metadata": {
        "id": "bB4HVDQDMAFG"
      },
      "execution_count": null,
      "outputs": []
    },
    {
      "cell_type": "markdown",
      "source": [
        "#Exploring the package (inputs)"
      ],
      "metadata": {
        "id": "E-ZRzqxTLsgR"
      }
    },
    {
      "cell_type": "code",
      "source": [
        "# Loading a game (with no/default parameters).\n",
        "game = pyspiel.load_game(\"tic_tac_toe\")\n",
        "print(game)"
      ],
      "metadata": {
        "colab": {
          "base_uri": "https://localhost:8080/"
        },
        "id": "A0FoNJkXLOyA",
        "outputId": "7c5741d0-335f-4c82-b11f-d135e754a717"
      },
      "execution_count": 3,
      "outputs": [
        {
          "output_type": "stream",
          "name": "stdout",
          "text": [
            "tic_tac_toe()\n"
          ]
        }
      ]
    },
    {
      "cell_type": "code",
      "source": [
        "# Some properties of the games.\n",
        "print(game.num_players())\n",
        "print(game.max_utility())\n",
        "print(game.min_utility())\n",
        "print(game.num_distinct_actions())"
      ],
      "metadata": {
        "colab": {
          "base_uri": "https://localhost:8080/"
        },
        "id": "11_7lJ1wLSTv",
        "outputId": "8122779f-5e77-415a-988f-c5868d00407d"
      },
      "execution_count": 4,
      "outputs": [
        {
          "output_type": "stream",
          "name": "stdout",
          "text": [
            "2\n",
            "1.0\n",
            "-1.0\n",
            "9\n"
          ]
        }
      ]
    },
    {
      "cell_type": "code",
      "source": [
        "# Creating initial states.\n",
        "state = game.new_initial_state()\n",
        "print(state)"
      ],
      "metadata": {
        "colab": {
          "base_uri": "https://localhost:8080/"
        },
        "id": "oAyATUI-LXGt",
        "outputId": "1bfa5e23-0a6b-4cf0-8c6b-e5bc50d16039"
      },
      "execution_count": 5,
      "outputs": [
        {
          "output_type": "stream",
          "name": "stdout",
          "text": [
            "...\n",
            "...\n",
            "...\n"
          ]
        }
      ]
    },
    {
      "cell_type": "code",
      "source": [
        "# Basic information about states.\n",
        "print(state.current_player())\n",
        "print(state.is_terminal())\n",
        "print(state.returns())\n",
        "print(state.legal_actions())"
      ],
      "metadata": {
        "colab": {
          "base_uri": "https://localhost:8080/"
        },
        "id": "40WT5HPpLaK6",
        "outputId": "0a0dfa81-b467-4827-ab1d-8261e38cead1"
      },
      "execution_count": 6,
      "outputs": [
        {
          "output_type": "stream",
          "name": "stdout",
          "text": [
            "0\n",
            "False\n",
            "[0.0, 0.0]\n",
            "[0, 1, 2, 3, 4, 5, 6, 7, 8]\n"
          ]
        }
      ]
    },
    {
      "cell_type": "code",
      "source": [
        "# Playing the game: applying actions.\n",
        "state = game.new_initial_state()\n",
        "state.apply_action(1)\n",
        "print(state)\n",
        "print(state.current_player())\n",
        "state.apply_action(2)\n",
        "state.apply_action(4)\n",
        "state.apply_action(0)\n",
        "state.apply_action(7)\n",
        "print(state)\n",
        "print(state.is_terminal())\n",
        "print(state.player_return(0))   # win for x (player 0)\n",
        "print(state.current_player())"
      ],
      "metadata": {
        "colab": {
          "base_uri": "https://localhost:8080/"
        },
        "id": "ugliT6hoLfMr",
        "outputId": "7f61f07a-d66d-4978-db89-1e6227f61507"
      },
      "execution_count": 7,
      "outputs": [
        {
          "output_type": "stream",
          "name": "stdout",
          "text": [
            ".x.\n",
            "...\n",
            "...\n",
            "1\n",
            "oxo\n",
            ".x.\n",
            ".x.\n",
            "True\n",
            "1.0\n",
            "-4\n"
          ]
        }
      ]
    },
    {
      "cell_type": "markdown",
      "source": [
        "#Trying rps"
      ],
      "metadata": {
        "id": "o1WkS8AFLzAo"
      }
    },
    {
      "cell_type": "code",
      "source": [
        "game = pyspiel.load_game(\"matrix_rps\")"
      ],
      "metadata": {
        "id": "MMq_t_WXL3XE"
      },
      "execution_count": 13,
      "outputs": []
    },
    {
      "cell_type": "code",
      "source": [
        "print(game)"
      ],
      "metadata": {
        "colab": {
          "base_uri": "https://localhost:8080/"
        },
        "id": "IVF-zqnPMExu",
        "outputId": "94634ae5-0044-4f95-f2e7-310df915ad95"
      },
      "execution_count": 11,
      "outputs": [
        {
          "output_type": "stream",
          "name": "stdout",
          "text": [
            "matrix_rps()\n"
          ]
        }
      ]
    },
    {
      "cell_type": "code",
      "source": [
        "# Some properties of the games.\n",
        "print(game.num_players())\n",
        "print(game.max_utility())\n",
        "print(game.min_utility())\n",
        "print(game.num_distinct_actions())\n",
        "print()\n"
      ],
      "metadata": {
        "colab": {
          "base_uri": "https://localhost:8080/"
        },
        "id": "X8RCr8h7MOYL",
        "outputId": "1c497c64-f05f-41f0-c365-208fc1474666"
      },
      "execution_count": 14,
      "outputs": [
        {
          "output_type": "stream",
          "name": "stdout",
          "text": [
            "2\n",
            "1.0\n",
            "-1.0\n",
            "3\n",
            "\n"
          ]
        }
      ]
    },
    {
      "cell_type": "code",
      "source": [
        "# Creating initial states.\n",
        "state = game.new_initial_state()\n",
        "print(state)\n",
        "print()\n"
      ],
      "metadata": {
        "colab": {
          "base_uri": "https://localhost:8080/"
        },
        "id": "Tr5MkydDM15Z",
        "outputId": "e5a740e6-479d-4488-c1cb-6de65460be6d"
      },
      "execution_count": 15,
      "outputs": [
        {
          "output_type": "stream",
          "name": "stdout",
          "text": [
            "Terminal? false\n",
            "Row actions: Rock Paper Scissors \n",
            "Col actions: Rock Paper Scissors \n",
            "Utility matrix:\n",
            "0,0 -1,1 1,-1 \n",
            "1,-1 0,0 -1,1 \n",
            "-1,1 1,-1 0,0 \n",
            "\n",
            "\n"
          ]
        }
      ]
    },
    {
      "cell_type": "code",
      "source": [
        "# Basic information about states.\n",
        "print(state.current_player())\n",
        "print(state.is_terminal())\n",
        "print(state.returns())\n",
        "print(state.legal_actions())"
      ],
      "metadata": {
        "id": "BWvrWq6-M4pX"
      },
      "execution_count": null,
      "outputs": []
    }
  ]
}