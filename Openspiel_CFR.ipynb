{
  "nbformat": 4,
  "nbformat_minor": 0,
  "metadata": {
    "colab": {
      "provenance": [],
      "authorship_tag": "ABX9TyOcB/CN+bhPt8cAxI1FQhSh",
      "include_colab_link": true
    },
    "kernelspec": {
      "name": "python3",
      "display_name": "Python 3"
    },
    "language_info": {
      "name": "python"
    }
  },
  "cells": [
    {
      "cell_type": "markdown",
      "metadata": {
        "id": "view-in-github",
        "colab_type": "text"
      },
      "source": [
        "<a href=\"https://colab.research.google.com/github/krvicky/open_spiel/blob/main/Openspiel_CFR.ipynb\" target=\"_parent\"><img src=\"https://colab.research.google.com/assets/colab-badge.svg\" alt=\"Open In Colab\"/></a>"
      ]
    },
    {
      "cell_type": "code",
      "source": [
        "# Install required dependencies\n",
        "!pip install open-spiel  # This might take some time\n",
        "\n",
        "# Import necessary libraries\n",
        "from open_spiel.python.algorithms import cfr\n",
        "from open_spiel.python.algorithms import exploitability\n",
        "from open_spiel.python.algorithms import expected_game_score\n",
        "import pyspiel"
      ],
      "metadata": {
        "colab": {
          "base_uri": "https://localhost:8080/"
        },
        "id": "uCz-zb-uPLmq",
        "outputId": "8f081cd6-6e94-42d4-c2e6-effb62a02cce"
      },
      "execution_count": 1,
      "outputs": [
        {
          "output_type": "stream",
          "name": "stdout",
          "text": [
            "Collecting open-spiel\n",
            "  Downloading open_spiel-1.3-cp310-cp310-manylinux_2_17_x86_64.manylinux2014_x86_64.whl (5.4 MB)\n",
            "\u001b[2K     \u001b[90m━━━━━━━━━━━━━━━━━━━━━━━━━━━━━━━━━━━━━━━━\u001b[0m \u001b[32m5.4/5.4 MB\u001b[0m \u001b[31m23.7 MB/s\u001b[0m eta \u001b[36m0:00:00\u001b[0m\n",
            "\u001b[?25hRequirement already satisfied: pip>=20.0.2 in /usr/local/lib/python3.10/dist-packages (from open-spiel) (23.1.2)\n",
            "Requirement already satisfied: attrs>=19.3.0 in /usr/local/lib/python3.10/dist-packages (from open-spiel) (23.1.0)\n",
            "Requirement already satisfied: absl-py>=0.10.0 in /usr/local/lib/python3.10/dist-packages (from open-spiel) (1.4.0)\n",
            "Requirement already satisfied: numpy>=1.21.5 in /usr/local/lib/python3.10/dist-packages (from open-spiel) (1.23.5)\n",
            "Requirement already satisfied: scipy>=1.10.1 in /usr/local/lib/python3.10/dist-packages (from open-spiel) (1.11.3)\n",
            "Installing collected packages: open-spiel\n",
            "Successfully installed open-spiel-1.3\n"
          ]
        }
      ]
    },
    {
      "cell_type": "markdown",
      "source": [
        "#Exploring the state variables"
      ],
      "metadata": {
        "id": "ASYf1gzwtroo"
      }
    },
    {
      "cell_type": "markdown",
      "source": [
        "Running one complete iteration of the game and printing the different state variables"
      ],
      "metadata": {
        "id": "Ya1PzTuYtuxU"
      }
    },
    {
      "cell_type": "code",
      "source": [
        "import random\n",
        "import pyspiel\n",
        "import numpy as np\n",
        "\n",
        "game = pyspiel.load_game(\"kuhn_poker\")\n",
        "state = game.new_initial_state()\n",
        "while not state.is_terminal():\n",
        "\n",
        "  print()\n",
        "  print(\"Move number... \", state.move_number())\n",
        "  print(\"Start of loop....\")\n",
        "  print(\"is chance node? \",state.is_chance_node())\n",
        "  print(\"is player node? \",state.is_player_node())\n",
        "  legal_actions = state.legal_actions()\n",
        "  print(\"Current player is....\",state.current_player())\n",
        "  print(\"Legal actions are....\", legal_actions)\n",
        "  print(\"Information state string for 0...\",state.information_state_string(0))\n",
        "  print(\"Observation string for 0...\",state.observation_string(0))\n",
        "  print(\"Information state string for 1...\",state.information_state_string(1))\n",
        "  print(\"Observation string for 1...\",state.observation_string(1))\n",
        "\n",
        "  if state.is_chance_node():\n",
        "    # Sample a chance event outcome.\n",
        "    outcomes_with_probs = state.chance_outcomes()\n",
        "    print(outcomes_with_probs)\n",
        "    action_list, prob_list = zip(*outcomes_with_probs)\n",
        "    action = np.random.choice(action_list, p=prob_list)\n",
        "    print(\"Action is... \", action)\n",
        "    state.apply_action(action)\n",
        "  else:\n",
        "    # The algorithm can pick an action based on an observation (fully observable\n",
        "    # games) or an information state (information available for that player)\n",
        "    # We arbitrarily select the first available action as an example.\n",
        "\n",
        "    action = legal_actions[state.current_player()]\n",
        "    print(\"Action is... \", action)\n",
        "    state.apply_action(action)\n",
        "\n",
        "print()\n",
        "print(\"Entire history is \",state.history())\n",
        "print(\"Returns is... \",state.returns())\n",
        "print(\"Rewards is....\",state.rewards())"
      ],
      "metadata": {
        "colab": {
          "base_uri": "https://localhost:8080/"
        },
        "id": "g6Me_W_MTKNj",
        "outputId": "9a7e139a-8c10-4638-8a8e-ec98158cedd0"
      },
      "execution_count": 4,
      "outputs": [
        {
          "output_type": "stream",
          "name": "stdout",
          "text": [
            "\n",
            "Move number...  0\n",
            "Start of loop....\n",
            "is chance node?  True\n",
            "is player node?  False\n",
            "Current player is.... -1\n",
            "Legal actions are.... [0, 1, 2]\n",
            "Information state string for 0... \n",
            "Observation string for 0... \n",
            "Information state string for 1... \n",
            "Observation string for 1... \n",
            "[(0, 0.3333333333333333), (1, 0.3333333333333333), (2, 0.3333333333333333)]\n",
            "Action is...  2\n",
            "\n",
            "Move number...  1\n",
            "Start of loop....\n",
            "is chance node?  True\n",
            "is player node?  False\n",
            "Current player is.... -1\n",
            "Legal actions are.... [0, 1]\n",
            "Information state string for 0... 2\n",
            "Observation string for 0... 211\n",
            "Information state string for 1... \n",
            "Observation string for 1... \n",
            "[(0, 0.5), (1, 0.5)]\n",
            "Action is...  1\n",
            "\n",
            "Move number...  2\n",
            "Start of loop....\n",
            "is chance node?  False\n",
            "is player node?  True\n",
            "Current player is.... 0\n",
            "Legal actions are.... [0, 1]\n",
            "Information state string for 0... 2\n",
            "Observation string for 0... 211\n",
            "Information state string for 1... 1\n",
            "Observation string for 1... 111\n",
            "Action is...  0\n",
            "\n",
            "Move number...  3\n",
            "Start of loop....\n",
            "is chance node?  False\n",
            "is player node?  True\n",
            "Current player is.... 1\n",
            "Legal actions are.... [0, 1]\n",
            "Information state string for 0... 2p\n",
            "Observation string for 0... 211\n",
            "Information state string for 1... 1p\n",
            "Observation string for 1... 111\n",
            "Action is...  1\n",
            "\n",
            "Move number...  4\n",
            "Start of loop....\n",
            "is chance node?  False\n",
            "is player node?  True\n",
            "Current player is.... 0\n",
            "Legal actions are.... [0, 1]\n",
            "Information state string for 0... 2pb\n",
            "Observation string for 0... 212\n",
            "Information state string for 1... 1pb\n",
            "Observation string for 1... 112\n",
            "Action is...  0\n",
            "\n",
            "Entire history is  [2, 1, 0, 1, 0]\n",
            "Returns is...  [-1.0, 1.0]\n",
            "Rewards is.... [-1.0, 1.0]\n"
          ]
        }
      ]
    },
    {
      "cell_type": "markdown",
      "source": [
        "**CFR implementation**"
      ],
      "metadata": {
        "id": "EJqEqF5PSRmA"
      }
    },
    {
      "cell_type": "code",
      "source": [
        "from open_spiel.python.algorithms import cfr"
      ],
      "metadata": {
        "id": "V8ZLnpYqZcCg"
      },
      "execution_count": 5,
      "outputs": []
    },
    {
      "cell_type": "code",
      "source": [
        "# Assign flag values to variables\n",
        "my_iterations = 100\n",
        "my_game = \"kuhn_poker\"\n",
        "players = 2\n",
        "print_freq = 25\n",
        "\n",
        "# Load the game using the renamed variable\n",
        "game = pyspiel.load_game(my_game, {\"players\": players})\n",
        "cfr_solver = cfr.CFRSolver(game)\n",
        "\n",
        "# Run your iterations\n",
        "for i in range(my_iterations):\n",
        "    cfr_solver.evaluate_and_update_policy()\n",
        "    if i % print_freq == 0:\n",
        "        conv = exploitability.exploitability(game, cfr_solver.average_policy())\n",
        "        print(\"Iteration {} exploitability {}\".format(i, conv))"
      ],
      "metadata": {
        "colab": {
          "base_uri": "https://localhost:8080/"
        },
        "id": "YRhvbFI7SRMJ",
        "outputId": "639a0e59-bf83-4ded-c090-5aeef02dce1a"
      },
      "execution_count": 6,
      "outputs": [
        {
          "output_type": "stream",
          "name": "stdout",
          "text": [
            "Iteration 0 exploitability 0.45833333333333326\n",
            "Iteration 25 exploitability 0.029921334314481435\n",
            "Iteration 50 exploitability 0.014479024570810684\n",
            "Iteration 75 exploitability 0.009339085767700456\n"
          ]
        }
      ]
    },
    {
      "cell_type": "markdown",
      "source": [
        "#Implementing CFR and checking results"
      ],
      "metadata": {
        "id": "syashNuNHhMS"
      }
    },
    {
      "cell_type": "markdown",
      "source": [
        "Algorithm is in this [Miro board](https://miro.com/welcomeonboard/VmRQRU5kc2wybjBacTdJUHBhSkN6RW5wOGUwbjRDSWlHd2dtRkhNTjd3Mmh5amMwUjNsMWI4Rnl0a3hnWFQyeHwzNDU4NzY0NTY2NDM5NzE3OTkwfDI=?share_link_id=754191260450)"
      ],
      "metadata": {
        "id": "nO1Y64zMHrKc"
      }
    },
    {
      "cell_type": "code",
      "source": [
        "#Define the parameters\n",
        "episodes = 10000\n",
        "my_iterations = 100\n",
        "my_game = \"kuhn_poker\"\n",
        "players = 2\n",
        "print_freq = 1000"
      ],
      "metadata": {
        "id": "VpaJERAUHkhg"
      },
      "execution_count": 75,
      "outputs": []
    },
    {
      "cell_type": "code",
      "source": [
        "#Strategy function for player 0\n",
        "#follows uniform strategy\n",
        "#takes state as inputs.  Computes the legal actions at that state and selects one at random with equal probability\n",
        "\n",
        "def action_for_player(state):\n",
        "  legal_actions = state.legal_actions()\n",
        "  return random.choice(legal_actions)"
      ],
      "metadata": {
        "id": "JXIcbNDLILPO"
      },
      "execution_count": 43,
      "outputs": []
    },
    {
      "cell_type": "code",
      "source": [
        "#Strategy function for player 1\n",
        "#follows CFR strategy\n",
        "\n",
        "#Train a CFR model\n",
        "from open_spiel.python.algorithms import cfr\n",
        "cfr_game = pyspiel.load_game(\"kuhn_poker\")\n",
        "# Create the CFR solver and run CFR iterations to compute a strategy\n",
        "cfr_solver = cfr.CFRSolver(cfr_game)\n",
        "iterations = 10000\n",
        "for i in range(iterations):\n",
        "    cfr_solver.evaluate_and_update_policy()\n",
        "    if i % print_freq == 0:\n",
        "        conv = exploitability.exploitability(game, cfr_solver.average_policy())\n",
        "        print(\"Iteration {} exploitability {}\".format(i, conv))\n",
        "\n",
        "# Obtain the average policy from CFR\n",
        "average_policy = cfr_solver.average_policy()"
      ],
      "metadata": {
        "colab": {
          "base_uri": "https://localhost:8080/"
        },
        "id": "BMhmF-DtIOFu",
        "outputId": "a6cca2e9-4da4-4dc8-9e0c-2a7b4e18b965"
      },
      "execution_count": 61,
      "outputs": [
        {
          "output_type": "stream",
          "name": "stdout",
          "text": [
            "Iteration 0 exploitability 0.45833333333333326\n",
            "Iteration 1000 exploitability 0.0009701106073763677\n",
            "Iteration 2000 exploitability 0.0005293432339987247\n",
            "Iteration 3000 exploitability 0.0004150519969013944\n",
            "Iteration 4000 exploitability 0.0002712135609054256\n",
            "Iteration 5000 exploitability 0.0001806005218573381\n",
            "Iteration 6000 exploitability 0.00020676484354964497\n",
            "Iteration 7000 exploitability 0.0001306464473274649\n",
            "Iteration 8000 exploitability 0.00016224104352607904\n",
            "Iteration 9000 exploitability 0.0001315032124148685\n"
          ]
        }
      ]
    },
    {
      "cell_type": "code",
      "source": [
        "#Get next action from the trained CFR strategy\n",
        "def cfr_strategy(state):\n",
        "    action_with_prob = average_policy.action_probabilities(state, state.current_player())\n",
        "\n",
        "    chosen_action = max(action_with_prob, key=action_with_prob.get)\n",
        "    return chosen_action"
      ],
      "metadata": {
        "id": "3jJ3lIAOP6Op"
      },
      "execution_count": 68,
      "outputs": []
    },
    {
      "cell_type": "code",
      "source": [
        "#Loop to run through different episodes\n",
        "game = pyspiel.load_game(my_game)\n",
        "test_player_returns = 0\n",
        "cfr_player_returns = 0\n",
        "test_player_wins = 0\n",
        "cfr_player_wins = 0\n",
        "\n",
        "for i in range(episodes):\n",
        "  state = game.new_initial_state()\n",
        "\n",
        "  #Run a single episode\n",
        "  while not state.is_terminal():\n",
        "    legal_actions = state.legal_actions()\n",
        "\n",
        "    if state.is_chance_node():\n",
        "      # Sample a chance event outcome.\n",
        "      outcomes_with_probs = state.chance_outcomes()\n",
        "      action_list, prob_list = zip(*outcomes_with_probs)\n",
        "      action = np.random.choice(action_list, p=prob_list)\n",
        "      state.apply_action(action)\n",
        "    else:\n",
        "      if state.current_player() == 0:\n",
        "        #This is the player with suboptimal strategy\n",
        "        action = action_for_player(state)\n",
        "        state.apply_action(action)\n",
        "      else:\n",
        "        #This is the player with CFR strategy\n",
        "        action = cfr_strategy(state)\n",
        "        state.apply_action(action)\n",
        "\n",
        "  #Print entire history of the episode\n",
        "  #print(f\"Entire history of episode {i} is {state.history()}\")\n",
        "  #Accumulate the returns for each player\n",
        "  episode_return = state.returns()\n",
        "  if episode_return[0] > episode_return[1]:\n",
        "    test_player_wins += 1\n",
        "    #print(\"test player wins\")\n",
        "  else:\n",
        "    cfr_player_wins += 1\n",
        "    #print(\"cfr player wins\")\n",
        "  test_player_returns += episode_return[0]\n",
        "  cfr_player_returns += episode_return[1]\n",
        "\n",
        "print(\"Total number of episodes is \", episodes)\n",
        "print(\"Number of wins for test player is \", test_player_wins)\n",
        "print(\"Number of wins for cfr player is \", cfr_player_wins)\n",
        "test_player_win_rate = (test_player_wins / episodes) * 100\n",
        "cfr_player_win_rate = (cfr_player_wins / episodes) * 100\n",
        "print(\"Test player win rate is: {:.2f}%\".format(test_player_win_rate))\n",
        "print(\"CFR player win rate is: {:.2f}%\".format(cfr_player_win_rate))\n",
        "\n"
      ],
      "metadata": {
        "colab": {
          "base_uri": "https://localhost:8080/"
        },
        "id": "WioSgwZgKvjc",
        "outputId": "58cedf62-b84f-429f-bf2d-633af3ab897e"
      },
      "execution_count": 76,
      "outputs": [
        {
          "output_type": "stream",
          "name": "stdout",
          "text": [
            "Total number of episodes is  10000\n",
            "Number of wins for test player is  5828\n",
            "Number of wins for cfr player is  4172\n",
            "Test player win rate is: 58.28%\n",
            "CFR player win rate is: 41.72%\n"
          ]
        }
      ]
    }
  ]
}