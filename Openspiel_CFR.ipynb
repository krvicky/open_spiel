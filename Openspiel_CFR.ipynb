{
  "nbformat": 4,
  "nbformat_minor": 0,
  "metadata": {
    "colab": {
      "provenance": [],
      "authorship_tag": "ABX9TyP9VfLnBRloQj1fU0Fw0u6w",
      "include_colab_link": true
    },
    "kernelspec": {
      "name": "python3",
      "display_name": "Python 3"
    },
    "language_info": {
      "name": "python"
    }
  },
  "cells": [
    {
      "cell_type": "markdown",
      "metadata": {
        "id": "view-in-github",
        "colab_type": "text"
      },
      "source": [
        "<a href=\"https://colab.research.google.com/github/krvicky/open_spiel/blob/main/Openspiel_CFR.ipynb\" target=\"_parent\"><img src=\"https://colab.research.google.com/assets/colab-badge.svg\" alt=\"Open In Colab\"/></a>"
      ]
    },
    {
      "cell_type": "code",
      "source": [
        "# Install required dependencies\n",
        "!pip install open-spiel  # This might take some time\n",
        "\n",
        "# Import necessary libraries\n",
        "from open_spiel.python.algorithms import cfr\n",
        "from open_spiel.python.algorithms import exploitability\n",
        "import pyspiel\n",
        "\n",
        "# Define configuration parameters directly\n",
        "my_iterations = 100\n",
        "my_game = \"kuhn_poker\"\n",
        "players = 2\n",
        "print_freq = 10\n",
        "\n",
        "# Load the game using the specified game name\n",
        "game = pyspiel.load_game(my_game, {\"players\": players})\n",
        "cfr_solver = cfr.CFRSolver(game)\n",
        "\n",
        "# Run your iterations\n",
        "for i in range(my_iterations):\n",
        "    cfr_solver.evaluate_and_update_policy()\n",
        "    if i % print_freq == 0:\n",
        "        conv = exploitability.exploitability(game, cfr_solver.average_policy())\n",
        "        print(\"Iteration {} exploitability {}\".format(i, conv))\n"
      ],
      "metadata": {
        "colab": {
          "base_uri": "https://localhost:8080/"
        },
        "id": "XXkMPupvbqUS",
        "outputId": "b8231d90-af01-40bc-b4f7-41723667cfc2"
      },
      "execution_count": 1,
      "outputs": [
        {
          "output_type": "stream",
          "name": "stdout",
          "text": [
            "Requirement already satisfied: open-spiel in /usr/local/lib/python3.10/dist-packages (1.3)\n",
            "Requirement already satisfied: pip>=20.0.2 in /usr/local/lib/python3.10/dist-packages (from open-spiel) (23.1.2)\n",
            "Requirement already satisfied: attrs>=19.3.0 in /usr/local/lib/python3.10/dist-packages (from open-spiel) (23.1.0)\n",
            "Requirement already satisfied: absl-py>=0.10.0 in /usr/local/lib/python3.10/dist-packages (from open-spiel) (1.4.0)\n",
            "Requirement already satisfied: numpy>=1.21.5 in /usr/local/lib/python3.10/dist-packages (from open-spiel) (1.23.5)\n",
            "Requirement already satisfied: scipy>=1.10.1 in /usr/local/lib/python3.10/dist-packages (from open-spiel) (1.11.3)\n",
            "Iteration 0 exploitability 0.45833333333333326\n",
            "Iteration 10 exploitability 0.06046924690611866\n",
            "Iteration 20 exploitability 0.039914275345009825\n",
            "Iteration 30 exploitability 0.024167348753902612\n",
            "Iteration 40 exploitability 0.020517348345035824\n",
            "Iteration 50 exploitability 0.014479024570810684\n",
            "Iteration 60 exploitability 0.014003542854660017\n",
            "Iteration 70 exploitability 0.011778275229671564\n",
            "Iteration 80 exploitability 0.010102437916053336\n",
            "Iteration 90 exploitability 0.00983365028965788\n"
          ]
        }
      ]
    }
  ]
}